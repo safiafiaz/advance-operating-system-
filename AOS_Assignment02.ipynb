{
 "cells": [
  {
   "cell_type": "code",
   "execution_count": 1,
   "metadata": {},
   "outputs": [
    {
     "name": "stdout",
     "output_type": "stream",
     "text": [
      "My Favorite pizzas are\n",
      "Peri-peri\n",
      "Chickan Fajita\n",
      "Chicken Tikka\n",
      "BBQ Pizza\n",
      "My friend's Favorite pizzas are\n",
      "Chickan Fajita\n",
      "Chicken Tikka\n",
      "BBQ Pizza\n",
      "Veggie Pizza\n"
     ]
    }
   ],
   "source": [
    "# 4.11\n",
    "pizzas_safia=['Chickan Fajita','Chicken Tikka','BBQ Pizza']\n",
    "friend_pizza=pizzas_safia[:]\n",
    "pizzas_safia.insert(0,'Peri-peri')\n",
    "friend_pizza.append('Veggie Pizza')\n",
    "print(\"My Favorite pizzas are\")\n",
    "for pizza in pizzas_safia:\n",
    "    print(pizza)    \n",
    "print(\"My friend's Favorite pizzas are\")\n",
    "for friend_pizza in friend_pizza:\n",
    "    print(friend_pizza)"
   ]
  },
  {
   "cell_type": "code",
   "execution_count": 2,
   "metadata": {},
   "outputs": [
    {
     "name": "stdout",
     "output_type": "stream",
     "text": [
      "Foods in Resturaunts are\n",
      "Daal\n",
      "Sabzi\n",
      "Qeema\n",
      "Mutton\n",
      "Qorma\n"
     ]
    },
    {
     "ename": "TypeError",
     "evalue": "'tuple' object does not support item assignment",
     "output_type": "error",
     "traceback": [
      "\u001b[1;31m---------------------------------------------------------------------------\u001b[0m",
      "\u001b[1;31mTypeError\u001b[0m                                 Traceback (most recent call last)",
      "\u001b[1;32me:\\Assignments\\AOS_Assignment02.ipynb Cell 2\u001b[0m in \u001b[0;36m<cell line: 6>\u001b[1;34m()\u001b[0m\n\u001b[0;32m      <a href='vscode-notebook-cell:/e%3A/Assignments/AOS_Assignment02.ipynb#W1sZmlsZQ%3D%3D?line=3'>4</a>\u001b[0m \u001b[39mfor\u001b[39;00m foods \u001b[39min\u001b[39;00m resturant_safia:\n\u001b[0;32m      <a href='vscode-notebook-cell:/e%3A/Assignments/AOS_Assignment02.ipynb#W1sZmlsZQ%3D%3D?line=4'>5</a>\u001b[0m     \u001b[39mprint\u001b[39m(foods)   \n\u001b[1;32m----> <a href='vscode-notebook-cell:/e%3A/Assignments/AOS_Assignment02.ipynb#W1sZmlsZQ%3D%3D?line=5'>6</a>\u001b[0m resturant_safia[\u001b[39m0\u001b[39;49m]\u001b[39m=\u001b[39m\u001b[39m'\u001b[39m\u001b[39mKarhai\u001b[39m\u001b[39m'\u001b[39m\n",
      "\u001b[1;31mTypeError\u001b[0m: 'tuple' object does not support item assignment"
     ]
    }
   ],
   "source": [
    "# 4.13\n",
    "resturant_safia=('Daal','Sabzi','Qeema','Mutton','Qorma')\n",
    "print(\"Foods in Resturaunts are\")\n",
    "for foods in resturant_safia:\n",
    "    print(foods)   \n",
    "resturant_safia[0]='Karhai'"
   ]
  },
  {
   "cell_type": "code",
   "execution_count": 3,
   "metadata": {},
   "outputs": [
    {
     "name": "stdout",
     "output_type": "stream",
     "text": [
      " Now foods in Resturaunts are\n",
      "Daal\n",
      "Sabzi\n",
      "Qeema\n",
      "Mutton\n",
      "Qorma\n"
     ]
    }
   ],
   "source": [
    "# Part 3\n",
    "resturant_safia=('Daal','Sabzi','Qeema','Mutton','Qorma')\n",
    "print(\" Now foods in Resturaunts are\")\n",
    "for foods in resturant_safia:\n",
    "    print(foods)   "
   ]
  },
  {
   "cell_type": "code",
   "execution_count": 5,
   "metadata": {},
   "outputs": [
    {
     "name": "stdout",
     "output_type": "stream",
     "text": [
      "False\n",
      "True\n",
      "False\n",
      "True\n",
      "False\n",
      "True\n",
      "False\n",
      "True\n",
      "False\n",
      "True\n",
      "False\n",
      "True\n",
      "False\n",
      "False\n",
      "Number is not Found in list\n"
     ]
    }
   ],
   "source": [
    "# 5.2\n",
    "laptop_safia=\"HP\"\n",
    "print(laptop_safia=='DEll')\n",
    "print(laptop_safia=='HP')\n",
    "print(laptop_safia!='HP')\n",
    "print(laptop_safia!='ACER')\n",
    "\n",
    "print(laptop_safia.lower()=='HP')\n",
    "print(laptop_safia.lower()=='hp')\n",
    "\n",
    "no_safia=15\n",
    "print(no_safia==25)\n",
    "print(no_safia!=25)\n",
    "print(no_safia>125)  \n",
    "print(no_safia<125) \n",
    "print(no_safia>=25)\n",
    "print(no_safia<=25)\n",
    "no1_safia=15\n",
    "no2_safia=50\n",
    "print(no1_safia>18 and no2_safia>=5.6)\n",
    "print(no1_safia>18 or  no2_safia==5.6)\n",
    "\n",
    "list_kashif=[1,2,3,4,5,6,7]\n",
    "found=False\n",
    "for item in list_kashif:\n",
    "    if(item==70):\n",
    "        found=True\n",
    "if(found==True):\n",
    "    print(\"Number found in List\")\n",
    "else:\n",
    "    print(\"Number is not Found in list\")\n"
   ]
  },
  {
   "cell_type": "code",
   "execution_count": 8,
   "metadata": {},
   "outputs": [
    {
     "name": "stdout",
     "output_type": "stream",
     "text": [
      "loops\n",
      "Executes Code  again and again\n",
      "for\n",
      "A type of Loop\n",
      "while\n",
      "A type of Loop\n",
      "Tuple\n",
      "Immuteable data structure\n",
      "List\n",
      "A data Structure\n"
     ]
    }
   ],
   "source": [
    "# 6.3\n",
    "glossary_safia={\n",
    "    'loops':'Executes Code  again and again',\n",
    "    'for':'A type of Loop',\n",
    "    'while':'A type of Loop',\n",
    "    'Tuple':'Immuteable data structure',\n",
    "    'List':'A data Structure'\n",
    "}\n",
    "for key,value in glossary_safia.items():\n",
    "    print(key+\"\\n\"+value)"
   ]
  },
  {
   "cell_type": "code",
   "execution_count": 10,
   "metadata": {},
   "outputs": [
    {
     "name": "stdout",
     "output_type": "stream",
     "text": [
      "City Name is Lahore\n",
      "Contry is Pakistan\n",
      "Population: 1000000\n",
      "Fact is thatBCApital of Punjab\n",
      "City Name is Multan\n",
      "Contry is Pakistan\n",
      "Population: 500000\n",
      "Fact is thatLand of Saints\n",
      "City Name is Faisalabad\n",
      "Contry is Pakistan\n",
      "Population: 7500000\n",
      "Fact is thatFamous for Footbal Production\n"
     ]
    }
   ],
   "source": [
    "# 6.11\n",
    "cities_safia={\n",
    "    'Lahore':{\n",
    "        'Country':'Pakistan',\n",
    "        'Population':'1000000',\n",
    "        'Fact':'BCApital of Punjab'\n",
    "    },\n",
    "    'Multan':{\n",
    "        'Country':'Pakistan',\n",
    "        'Population':'500000',\n",
    "        'Fact':'Land of Saints'\n",
    "    },\n",
    "    'Faisalabad':{\n",
    "        'Country':'Pakistan',\n",
    "        'Population':'7500000',\n",
    "        'Fact':'Famous for Footbal Production'\n",
    "    }\n",
    "}\n",
    "for cities,info in cities_safia.items():\n",
    "    print(\"City Name is \"+cities)\n",
    "    print(\"Contry is \"+info['Country'])\n",
    "    print(\"Population: \"+info['Population'])\n",
    "    print(\"Fact is that\"+info['Fact'])"
   ]
  },
  {
   "cell_type": "code",
   "execution_count": 15,
   "metadata": {},
   "outputs": [
    {
     "name": "stdout",
     "output_type": "stream",
     "text": [
      "Dictionary items are\n",
      "color: green\n",
      "points: 5\n",
      "\n",
      "Follwing items are in the dictionary after adding new keys and values.\n",
      "color: green\n",
      "points: 5\n",
      "available: yes\n",
      "location: no\n"
     ]
    }
   ],
   "source": [
    "# 6.12\n",
    "alien_safia = {'color': 'green', 'points': '5'}\n",
    "print(\"Dictionary items are\")\n",
    "for key,value in alien_safia.items():\n",
    "    print(key+\": \"+value)\n",
    "\n",
    "alien_safia['available']='yes'\n",
    "alien_safia['location']='no'\n",
    "print(\"\\nFollwing items are in the dictionary after adding new keys and values.\")\n",
    "for key,value in alien_safia.items():\n",
    "    print(key+\": \"+value)"
   ]
  }
 ],
 "metadata": {
  "kernelspec": {
   "display_name": "Python 3.10.5 64-bit",
   "language": "python",
   "name": "python3"
  },
  "language_info": {
   "codemirror_mode": {
    "name": "ipython",
    "version": 3
   },
   "file_extension": ".py",
   "mimetype": "text/x-python",
   "name": "python",
   "nbconvert_exporter": "python",
   "pygments_lexer": "ipython3",
   "version": "3.10.5"
  },
  "orig_nbformat": 4,
  "vscode": {
   "interpreter": {
    "hash": "afb734500600fd355917ca529030176ea0ca205570884b88f2f6f7d791fd3fbe"
   }
  }
 },
 "nbformat": 4,
 "nbformat_minor": 2
}
