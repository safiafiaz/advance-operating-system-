{
 "cells": [
  {
   "cell_type": "code",
   "execution_count": 1,
   "id": "db15d91c",
   "metadata": {},
   "outputs": [
    {
     "name": "stdout",
     "output_type": "stream",
     "text": [
      "welcome to new session M.phil Computer Science \n"
     ]
    }
   ],
   "source": [
    "\n",
    "a=\"welcome to new session M.phil Computer Science \"\n",
    "print(a)"
   ]
  },
  {
   "cell_type": "code",
   "execution_count": 2,
   "id": "ec9afd26",
   "metadata": {},
   "outputs": [
    {
     "name": "stdout",
     "output_type": "stream",
     "text": [
      "i am intresting in Machine learning\n",
      "because Machine learning is very intresting subject\n"
     ]
    }
   ],
   "source": [
    "\n",
    "b=\"i am intresting in Machine learning\"\n",
    "print(b)\n",
    "b=\"because Machine learning is very intresting subject\"\n",
    "print(b)"
   ]
  },
  {
   "cell_type": "code",
   "execution_count": 3,
   "id": "b73bff1d",
   "metadata": {},
   "outputs": [
    {
     "name": "stdout",
     "output_type": "stream",
     "text": [
      "safia\n"
     ]
    }
   ],
   "source": [
    "\n",
    "x=\"safia\"\n",
    "print(x)\n"
   ]
  },
  {
   "cell_type": "code",
   "execution_count": 5,
   "id": "611820ac",
   "metadata": {},
   "outputs": [
    {
     "name": "stdout",
     "output_type": "stream",
     "text": [
      "SAFIA\n",
      "safia\n"
     ]
    }
   ],
   "source": [
    "y=\"safia\"\n",
    "print(y.upper())\n",
    "print(y.lower())"
   ]
  },
  {
   "cell_type": "code",
   "execution_count": 6,
   "id": "82fd83d1",
   "metadata": {},
   "outputs": [
    {
     "name": "stdout",
     "output_type": "stream",
     "text": [
      "safia,\"\n"
     ]
    }
   ],
   "source": [
    "name='safia'\n",
    "message='what is rational is actual and what is actual rational.'\n",
    "print(name+ ',' '\"')"
   ]
  },
  {
   "cell_type": "code",
   "execution_count": 7,
   "id": "45ec9929",
   "metadata": {},
   "outputs": [
    {
     "name": "stdout",
     "output_type": "stream",
     "text": [
      "Safia, please come to home.\n",
      "Amna, please come to home.\n",
      "Iqra, please come to home.\n"
     ]
    }
   ],
   "source": [
    "guests=['safia','amna','iqra','sobia']\n",
    "name=guests[0]. title( )\n",
    "print(name + \", please come to home.\")\n",
    "name=guests[1]. title( )\n",
    "print(name + \", please come to home.\")\n",
    "name=guests[2]. title( )\n",
    "print(name + \", please come to home.\")\n"
   ]
  },
  {
   "cell_type": "code",
   "execution_count": 8,
   "id": "76a3f540",
   "metadata": {},
   "outputs": [
    {
     "name": "stdout",
     "output_type": "stream",
     "text": [
      "Safia, please come to home.\n",
      "Amna, please come to home.\n",
      "Amna, please come to home.\n",
      "\n",
      "sorry,  can't come to home.\n",
      "\n",
      "Safia please come to home.\n",
      "Iqra, please come to home.\n"
     ]
    }
   ],
   "source": [
    "guests=['safia','amna','iqra']\n",
    "name=guests[0]. title( )\n",
    "print(name + \", please come to home.\")\n",
    "name=guests[1]. title( )\n",
    "print(name + \", please come to home.\")\n",
    "nmae=guests[2]. title( )\n",
    "print(name + \", please come to home.\")\n",
    "name=guests[1]. title( )\n",
    "print(\"\\nsorry, \" + \" can't come to home.\")\n",
    "del(guests[1])\n",
    "guests . insert(1 , 'fairy')\n",
    "name=guests[0]. title( )\n",
    "print(\"\\n\" + name +\" please come to home.\")\n",
    "name=guests[2]. title( )\n",
    "print(name + \", please come to home.\")\n"
   ]
  },
  {
   "cell_type": "code",
   "execution_count": 11,
   "id": "fb73927b",
   "metadata": {},
   "outputs": [
    {
     "name": "stdout",
     "output_type": "stream",
     "text": [
      "Safia , please come to home.\n",
      "Iqra , please come to home.\n",
      "Amna , please come to home.\n",
      "\n",
      "soory,Iqracan't come to home.\n",
      "Safia,please come to home.\n",
      "Fairy,please come to home.\n",
      "Amna,please come to home.\n",
      "\n",
      "we got a bigger table!\n",
      "Fairy, please come to home.\n",
      "Safia, please come to home.\n",
      "Safia, please come to home.\n",
      "Fairy, please come to home.\n",
      "Amna, please come to home.\n",
      "Iqra, please come to home.\n"
     ]
    }
   ],
   "source": [
    "guests=['safia','iqra','amna']\n",
    "name=guests[0]. title( )\n",
    "print(name + \" , please come to home.\")\n",
    "name=guests[1]. title( )\n",
    "print(name + \" , please come to home.\")\n",
    "name=guests[2]. title( )\n",
    "print(name + \" , please come to home.\")\n",
    "name=guests[1].title( )\n",
    "print(\"\\nsoory,\" + name + \"can't come to home.\")\n",
    "del(guests[1])\n",
    "guests.insert(1,'fairy')\n",
    "name=guests[0].title( )\n",
    "print(name + \",please come to home.\")\n",
    "name=guests[1].title( )\n",
    "print(name + \",please come to home.\")\n",
    "name=guests[2].title( )\n",
    "print(name + \",please come to home.\")\n",
    "print(\"\\nwe got a bigger table!\")\n",
    "guests.insert(0, 'fairy')\n",
    "guests.insert(1, 'safia')\n",
    "guests.append('iqra')\n",
    "name=guests[0].title( )\n",
    "print(name + \", please come to home.\")\n",
    "name=guests[1].title( )\n",
    "print(name + \", please come to home.\")\n",
    "name=guests[2].title( )\n",
    "print(name + \", please come to home.\")\n",
    "name=guests[3].title( )\n",
    "print(name + \", please come to home.\")\n",
    "name=guests[4].title( )\n",
    "print(name + \", please come to home.\")\n",
    "name=guests[5].title( )\n",
    "print(name + \", please come to home.\")\n"
   ]
  },
  {
   "cell_type": "code",
   "execution_count": 12,
   "id": "5ab895f5",
   "metadata": {},
   "outputs": [
    {
     "name": "stdout",
     "output_type": "stream",
     "text": [
      "less cheese\n",
      "A pizza should haveless cheese\n",
      "I realy like pizza\n",
      "pinapple\n",
      "A pizza should havepinapple\n",
      "I realy like pizza\n",
      "no pepperrion\n",
      "A pizza should haveno pepperrion\n",
      "I realy like pizza\n"
     ]
    }
   ],
   "source": [
    "pizzas = [\"less cheese\", \"pinapple\", \"no pepperrion\"]\n",
    "for pizza in pizzas:\n",
    "    print(pizza)\n",
    "    print(\"A pizza should have{}\".format(pizza))\n",
    "    print(\"I realy like pizza\")\n",
    "    "
   ]
  },
  {
   "cell_type": "code",
   "execution_count": 14,
   "id": "83de0261",
   "metadata": {},
   "outputs": [
    {
     "name": "stdout",
     "output_type": "stream",
     "text": [
      "Dog has four legs\n",
      "Lion has four legs\n",
      "Tigger has four legs\n"
     ]
    }
   ],
   "source": [
    "animals=[\"dog\", \"lion\", \"tigger\"]\n",
    "for animal in animals:\n",
    "    #print(animals.title())\n",
    "    print(\"{} has four legs\".format(animal.title()))"
   ]
  },
  {
   "cell_type": "code",
   "execution_count": 13,
   "id": "5cdeee50",
   "metadata": {},
   "outputs": [
    {
     "name": "stdout",
     "output_type": "stream",
     "text": [
      "safia\n",
      "what is rational ios actual and what is in actual is rational.\n"
     ]
    }
   ],
   "source": [
    "famous_person= 'safia'\n",
    "message = 'what is rational ios actual and what is in actual is rational.'\n",
    "print(famous_person + '\\n' +message)"
   ]
  },
  {
   "cell_type": "code",
   "execution_count": 25,
   "id": "eb1e1d8c",
   "metadata": {},
   "outputs": [
    {
     "name": "stdout",
     "output_type": "stream",
     "text": [
      "kashif\n",
      "kashif\n",
      "kashif\n"
     ]
    }
   ],
   "source": [
    "name= 'safia'\n",
    "print(name.lstrip())\n",
    "print(name.rstrip())\n",
    "print(name.strip())"
   ]
  },
  {
   "cell_type": "code",
   "execution_count": 26,
   "id": "5230500e",
   "metadata": {},
   "outputs": [
    {
     "name": "stdout",
     "output_type": "stream",
     "text": [
      "8\n",
      "8\n",
      "2\n",
      "4.0\n"
     ]
    }
   ],
   "source": [
    "print(4+4)\n",
    "print(9-1)\n",
    "print(2*1)\n",
    "print(8/2)"
   ]
  },
  {
   "cell_type": "code",
   "execution_count": 27,
   "id": "32f888ec",
   "metadata": {},
   "outputs": [
    {
     "name": "stdout",
     "output_type": "stream",
     "text": [
      "my favourite number isSeven.\n"
     ]
    }
   ],
   "source": [
    "number='seven'\n",
    "message='my favourite number is'\n",
    "print(message+number.title()+ '.')"
   ]
  },
  {
   "cell_type": "code",
   "execution_count": 15,
   "id": "2d2f3ee9",
   "metadata": {},
   "outputs": [
    {
     "name": "stdout",
     "output_type": "stream",
     "text": [
      "safia\n",
      "December 8, 2021\n"
     ]
    }
   ],
   "source": [
    "name='safia'\n",
    "print(name)\n",
    "message='December 8, 2021'\n",
    "print(message)"
   ]
  },
  {
   "cell_type": "code",
   "execution_count": null,
   "id": "054c32d6",
   "metadata": {},
   "outputs": [],
   "source": []
  }
 ],
 "metadata": {
  "kernelspec": {
   "display_name": "Python 3 (ipykernel)",
   "language": "python",
   "name": "python3"
  },
  "language_info": {
   "codemirror_mode": {
    "name": "ipython",
    "version": 3
   },
   "file_extension": ".py",
   "mimetype": "text/x-python",
   "name": "python",
   "nbconvert_exporter": "python",
   "pygments_lexer": "ipython3",
   "version": "3.9.13"
  }
 },
 "nbformat": 4,
 "nbformat_minor": 5
}
